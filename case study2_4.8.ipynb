{
 "cells": [
  {
   "cell_type": "markdown",
   "id": "d9e8afad",
   "metadata": {},
   "source": [
    "## Case 2 results using SQL Sever\n",
    "Jinwen Li\n",
    "### 1.asked information\n",
    "SQL query codes can be found using the link:https://github.com/jinwen0826/case_study0409"
   ]
  },
  {
   "cell_type": "code",
   "execution_count": 144,
   "id": "aa9c1273",
   "metadata": {},
   "outputs": [
    {
     "name": "stdout",
     "output_type": "stream",
     "text": [
      "   Year    Trev_curr  Newcust_rev  Ecu_growth  Revlost_att Ecu_revcurr  \\\n",
      "0  2017  31417495.03  21769213.01  1123705.33  16146518.63  9648282.02   \n",
      "1  2016  25730943.59  17206366.90         N/A  20551216.15  8524576.69   \n",
      "2  2015  29036749.19          N/A         N/A          N/A         N/A   \n",
      "\n",
      "      Ec_revp Totalc_curr Totalc_p Number_new_cus Number_lost_cus  \n",
      "0  8524576.69      249987   204646         173449          128108  \n",
      "1         N/A      204646   231294         136891          163539  \n",
      "2         N/A      231294      N/A            N/A             N/A  \n"
     ]
    }
   ],
   "source": [
    "result=pd.DataFrame({'Year':['2017','2016','2015'],\n",
    "                     'Trev_curr':['31417495.03','25730943.59','29036749.19'],\n",
    "                     'Newcust_rev':['21769213.01','17206366.90','N/A'],\n",
    "                     'Ecu_growth':['1123705.33','N/A','N/A'],\n",
    "                     'Revlost_att':['16146518.63','20551216.15','N/A'],\n",
    "                     'Ecu_revcurr':['9648282.02','8524576.69','N/A'],  \n",
    "                     'Ec_revp':['8524576.69','N/A','N/A'],\n",
    "                     'Totalc_curr':['249987','204646','231294'],\n",
    "                     'Totalc_p':['204646','231294','N/A'],\n",
    "                     'Number_new_cus':['173449','136891','N/A'],\n",
    "                     'Number_lost_cus':['128108','163539','N/A']                    \n",
    "                     \n",
    "                    })\n",
    "print(result)"
   ]
  },
  {
   "cell_type": "markdown",
   "id": "aaeae586",
   "metadata": {},
   "source": [
    "### Notes:  \n",
    "1.Trev_curr: Total revenue for the current year  \n",
    "2.Newcust_rev: New Customer Revenue   \n",
    "3.Ecu_growth: Existing Customer Growth  \n",
    "4.Revlost_att:Revenue lost from attrition\n",
    "5.Ecu_revcurr:Existing Customer Revenue Current Year  \n",
    "6.Ec_revp:Existing Customer Revenue Prior Year  \n",
    "7.Totalc_curr:Total Customers Current Year  \n",
    "8.Totalc_p: Total Customers Previous Year  \n",
    "9.Number_new_cus:New Customers  \n",
    "10.Number_lost_cus:Lost Customers  "
   ]
  },
  {
   "cell_type": "markdown",
   "id": "2bf05708",
   "metadata": {},
   "source": [
    "#### 1.Total revenue for the current year\n",
    "--The total revenue for the current year(2017) is 31417495.0300001  \n",
    "--The total revenue for the current year(2016) is 25730943.5900001  \n",
    "--The total revenue for the current year(2015) is 29036749.19  \n",
    "\n",
    "#### 2.New Customer Revenue \n",
    "--New Customer Revenue for 2017 is 21769213.01, for 2016 is 17206366.9.  \n",
    "\n",
    "#### 3.Existing Customer Growth\n",
    "-- Existing Customer Growth for year 2017 is 9648282.02000003-8524576.68999998= 1123705.33000005  \n",
    "-- For here, we can only calculate the Existing Customer Growth for year 2017 because we don't know the  \n",
    "-- existing revenue in year 2015, so we cannot get the Existing Customer Growth for 2016.  \n",
    "\n",
    "#### 4. Revenue lost from attrition\n",
    "-- Here, we define the  Revenue lost from attrition is the customers who bought goods last year but don't buy  \n",
    "-- goods current year, and the lost is the value of goods they bought last year.  \n",
    "\n",
    "--The revenue lost from attrition in 2017 is 16146518.63, in 2016 is 20551216.15.  \n",
    "\n",
    "#### 5.Existing Customer Revenue Current Year\n",
    "-- The existing customer revenue for year 2017 is 9648282.02000002, and for year 2016 is 8524576.69.  \n",
    "\n",
    "#### 6.Existing Customer Revenue Prior Year\n",
    "-- For year 2017, the prior year is 2016, and the 2016 existing customer revenue is 8524576.69.  \n",
    "\n",
    "#### 7.Total Customers Current Year\n",
    " --The total customers for current year 2017 is 249987，for year 2016 is 204646, for year 2015 is 231294.  \n",
    "\n",
    "####  8.Total Customers Previous Year\n",
    " --For year 2017, the previous year is 2016, the total customers is 204646.  \n",
    " -- for year 2016, the previous year is 2015, the total customers is 231294.  \n"
   ]
  },
  {
   "cell_type": "markdown",
   "id": "ba8fcbc6",
   "metadata": {},
   "source": [
    "#### 9.New Customers list\n",
    "for year 2017:  \n",
    "-- The total number of new customers for 2017 is 173449 and the top 10 of new customers is below.  \n",
    "\n",
    "fuyjaexmoh@gmail.com  \n",
    "qvjfterwnk@gmail.com   \n",
    "uxilnjipqh@gmail.com  \n",
    "bcxekwoaor@gmail.com  \n",
    "zhlvymbfwx@gmail.com  \n",
    "fdkiioqtli@gmail.com  \n",
    "vcihdhamko@gmail.com  \n",
    "mqptqupwfa@gmail.com  \n",
    "zxdpwkylvf@gmail.com  \n",
    "vpsfdhgrfo@gmail.com   \n",
    "\n",
    "for year 2016:\n",
    "-- The total number of new customers for 2016 is 136891 and the top 10 of new customers is below.  \n",
    "mwrossuukz@gmail.com  \n",
    "gkwsoupawk@gmail.com  \n",
    "vlyigtgfzs@gmail.com  \n",
    "yfirychuhk@gmail.com  \n",
    "trnzgqinuu@gmail.com  \n",
    "hhxxpwlakg@gmail.com  \n",
    "xshhioxkjs@gmail.com  \n",
    "xypcivocfw@gmail.com  \n",
    "hoyilazseb@gmail.com  \n",
    "dkbsemibna@gmail.com  \n"
   ]
  },
  {
   "cell_type": "markdown",
   "id": "a8b4d7db",
   "metadata": {},
   "source": [
    "#### 10.Lost Customers list\n",
    "for year 2017:  \n",
    "-- for year 2017, the number of lost customers is 128108, and the top 10 of the lost customers is below.  \n",
    "\n",
    "gkwsoupawk@gmail.com  \n",
    "trnzgqinuu@gmail.com  \n",
    "hhxxpwlakg@gmail.com  \n",
    "lfeafnigbu@gmail.com  \n",
    "cemerinvsn@gmail.com  \n",
    "wkgndosxgd@gmail.com  \n",
    "xshhioxkjs@gmail.com  \n",
    "ujelzbtqer@gmail.com  \n",
    "gmsayrrlrm@gmail.com  \n",
    "whnnmusxsc@gmail.com  \n",
    "\n",
    "for year 2016:  \n",
    "-- for year 2016, the number of lost customers is 163539, and the top 10 of the lost customers is below.  \n",
    "\n",
    "sxabypbfhj@gmail.com  \n",
    "cyksxkrbby@gmail.com  \n",
    "fosfxhsnqg@gmail.com  \n",
    "yuozotbyus@gmail.com  \n",
    "lrafxvxavj@gmail.com    \n",
    "zufomelpjp@gmail.com  \n",
    "ihvfzxfjyd@gmail.com  \n",
    "nhknapwsbx@gmail.com  \n",
    "irvstayzjd@gmail.com  \n",
    "jawkygcvwx@gmail.com  \n",
    "\n",
    "\n"
   ]
  },
  {
   "cell_type": "markdown",
   "id": "43ae8e1b",
   "metadata": {},
   "source": [
    "### 2.import data using python"
   ]
  },
  {
   "cell_type": "code",
   "execution_count": 36,
   "id": "7e599544",
   "metadata": {},
   "outputs": [],
   "source": [
    "import pandas as pd\n",
    "import numpy as np\n",
    "from scipy import stats\n",
    "import matplotlib.pyplot as plt"
   ]
  },
  {
   "cell_type": "code",
   "execution_count": 37,
   "id": "b7109e83",
   "metadata": {},
   "outputs": [],
   "source": [
    "customers = pd.read_csv('casestudy.csv') #customers"
   ]
  },
  {
   "cell_type": "code",
   "execution_count": 38,
   "id": "2301de66",
   "metadata": {},
   "outputs": [
    {
     "data": {
      "text/html": [
       "<div>\n",
       "<style scoped>\n",
       "    .dataframe tbody tr th:only-of-type {\n",
       "        vertical-align: middle;\n",
       "    }\n",
       "\n",
       "    .dataframe tbody tr th {\n",
       "        vertical-align: top;\n",
       "    }\n",
       "\n",
       "    .dataframe thead th {\n",
       "        text-align: right;\n",
       "    }\n",
       "</style>\n",
       "<table border=\"1\" class=\"dataframe\">\n",
       "  <thead>\n",
       "    <tr style=\"text-align: right;\">\n",
       "      <th></th>\n",
       "      <th>Unnamed: 0</th>\n",
       "      <th>customer_email</th>\n",
       "      <th>net_revenue</th>\n",
       "      <th>year</th>\n",
       "    </tr>\n",
       "  </thead>\n",
       "  <tbody>\n",
       "    <tr>\n",
       "      <th>0</th>\n",
       "      <td>0</td>\n",
       "      <td>nhknapwsbx@gmail.com</td>\n",
       "      <td>249.92</td>\n",
       "      <td>2015</td>\n",
       "    </tr>\n",
       "    <tr>\n",
       "      <th>1</th>\n",
       "      <td>1</td>\n",
       "      <td>joiuzbvcpn@gmail.com</td>\n",
       "      <td>87.61</td>\n",
       "      <td>2015</td>\n",
       "    </tr>\n",
       "    <tr>\n",
       "      <th>2</th>\n",
       "      <td>2</td>\n",
       "      <td>ukkjctepxt@gmail.com</td>\n",
       "      <td>168.38</td>\n",
       "      <td>2015</td>\n",
       "    </tr>\n",
       "    <tr>\n",
       "      <th>3</th>\n",
       "      <td>3</td>\n",
       "      <td>gykatilzrt@gmail.com</td>\n",
       "      <td>62.40</td>\n",
       "      <td>2015</td>\n",
       "    </tr>\n",
       "    <tr>\n",
       "      <th>4</th>\n",
       "      <td>4</td>\n",
       "      <td>mmsgsrtxah@gmail.com</td>\n",
       "      <td>43.08</td>\n",
       "      <td>2015</td>\n",
       "    </tr>\n",
       "    <tr>\n",
       "      <th>5</th>\n",
       "      <td>5</td>\n",
       "      <td>mobvusnzfr@gmail.com</td>\n",
       "      <td>39.44</td>\n",
       "      <td>2015</td>\n",
       "    </tr>\n",
       "    <tr>\n",
       "      <th>6</th>\n",
       "      <td>6</td>\n",
       "      <td>kxwkqvacsv@gmail.com</td>\n",
       "      <td>171.46</td>\n",
       "      <td>2015</td>\n",
       "    </tr>\n",
       "    <tr>\n",
       "      <th>7</th>\n",
       "      <td>7</td>\n",
       "      <td>iqmnugdcjs@gmail.com</td>\n",
       "      <td>111.99</td>\n",
       "      <td>2015</td>\n",
       "    </tr>\n",
       "    <tr>\n",
       "      <th>8</th>\n",
       "      <td>8</td>\n",
       "      <td>baiikostmd@gmail.com</td>\n",
       "      <td>170.70</td>\n",
       "      <td>2015</td>\n",
       "    </tr>\n",
       "    <tr>\n",
       "      <th>9</th>\n",
       "      <td>9</td>\n",
       "      <td>lfeafnigbu@gmail.com</td>\n",
       "      <td>54.99</td>\n",
       "      <td>2015</td>\n",
       "    </tr>\n",
       "  </tbody>\n",
       "</table>\n",
       "</div>"
      ],
      "text/plain": [
       "   Unnamed: 0         customer_email  net_revenue  year\n",
       "0           0   nhknapwsbx@gmail.com       249.92  2015\n",
       "1           1   joiuzbvcpn@gmail.com        87.61  2015\n",
       "2           2   ukkjctepxt@gmail.com       168.38  2015\n",
       "3           3   gykatilzrt@gmail.com        62.40  2015\n",
       "4           4   mmsgsrtxah@gmail.com        43.08  2015\n",
       "5           5   mobvusnzfr@gmail.com        39.44  2015\n",
       "6           6   kxwkqvacsv@gmail.com       171.46  2015\n",
       "7           7   iqmnugdcjs@gmail.com       111.99  2015\n",
       "8           8   baiikostmd@gmail.com       170.70  2015\n",
       "9           9   lfeafnigbu@gmail.com        54.99  2015"
      ]
     },
     "execution_count": 38,
     "metadata": {},
     "output_type": "execute_result"
    }
   ],
   "source": [
    "customers.head(10)"
   ]
  },
  {
   "cell_type": "markdown",
   "id": "0252a2b2",
   "metadata": {},
   "source": [
    "### Form 1\n",
    "From the form below，there is an interesting observation.We can see the mean of three years net revenue are all around 125, the minimum are all 1.0, the maximum of three years net revenue are all 250.\n"
   ]
  },
  {
   "cell_type": "code",
   "execution_count": 87,
   "id": "0d6c9c93",
   "metadata": {},
   "outputs": [
    {
     "data": {
      "text/html": [
       "<div>\n",
       "<style scoped>\n",
       "    .dataframe tbody tr th:only-of-type {\n",
       "        vertical-align: middle;\n",
       "    }\n",
       "\n",
       "    .dataframe tbody tr th {\n",
       "        vertical-align: top;\n",
       "    }\n",
       "\n",
       "    .dataframe thead th {\n",
       "        text-align: right;\n",
       "    }\n",
       "</style>\n",
       "<table border=\"1\" class=\"dataframe\">\n",
       "  <thead>\n",
       "    <tr style=\"text-align: right;\">\n",
       "      <th></th>\n",
       "      <th>sum</th>\n",
       "      <th>min</th>\n",
       "      <th>mean</th>\n",
       "      <th>max</th>\n",
       "      <th>median</th>\n",
       "    </tr>\n",
       "    <tr>\n",
       "      <th>year</th>\n",
       "      <th></th>\n",
       "      <th></th>\n",
       "      <th></th>\n",
       "      <th></th>\n",
       "      <th></th>\n",
       "    </tr>\n",
       "  </thead>\n",
       "  <tbody>\n",
       "    <tr>\n",
       "      <th>2015</th>\n",
       "      <td>29036749.19</td>\n",
       "      <td>1.0</td>\n",
       "      <td>125.540434</td>\n",
       "      <td>250.0</td>\n",
       "      <td>125.655</td>\n",
       "    </tr>\n",
       "    <tr>\n",
       "      <th>2016</th>\n",
       "      <td>25730943.59</td>\n",
       "      <td>1.0</td>\n",
       "      <td>125.733919</td>\n",
       "      <td>250.0</td>\n",
       "      <td>125.760</td>\n",
       "    </tr>\n",
       "    <tr>\n",
       "      <th>2017</th>\n",
       "      <td>31417495.03</td>\n",
       "      <td>1.0</td>\n",
       "      <td>125.676515</td>\n",
       "      <td>250.0</td>\n",
       "      <td>125.810</td>\n",
       "    </tr>\n",
       "  </tbody>\n",
       "</table>\n",
       "</div>"
      ],
      "text/plain": [
       "              sum  min        mean    max   median\n",
       "year                                              \n",
       "2015  29036749.19  1.0  125.540434  250.0  125.655\n",
       "2016  25730943.59  1.0  125.733919  250.0  125.760\n",
       "2017  31417495.03  1.0  125.676515  250.0  125.810"
      ]
     },
     "execution_count": 87,
     "metadata": {},
     "output_type": "execute_result"
    }
   ],
   "source": [
    "customers.groupby('year').net_revenue.agg(['sum', 'min', 'mean', 'max','median'])"
   ]
  },
  {
   "cell_type": "markdown",
   "id": "c658af54",
   "metadata": {},
   "source": [
    "### Plots 1\n",
    "From the plots below, we can see the distributions of net_revenue in three years are all very even. Thus, we can see  \n",
    "customers don't have any perferance about each price points."
   ]
  },
  {
   "cell_type": "code",
   "execution_count": 91,
   "id": "313111dc",
   "metadata": {},
   "outputs": [
    {
     "data": {
      "text/plain": [
       "Text(0.5, 1.0, '2015 net revenue')"
      ]
     },
     "execution_count": 91,
     "metadata": {},
     "output_type": "execute_result"
    },
    {
     "data": {
      "image/png": "[encoded data removed]",
      "text/plain": [
       "<Figure size 432x288 with 1 Axes>"
      ]
     },
     "metadata": {
      "needs_background": "light"
     },
     "output_type": "display_data"
    }
   ],
   "source": [
    "net_revenue2015=customers[customers.year==2015]['net_revenue']\n",
    "plt.hist(net_revenue2015)\n",
    "plt.title('2015 net revenue')"
   ]
  },
  {
   "cell_type": "code",
   "execution_count": 92,
   "id": "14c92226",
   "metadata": {},
   "outputs": [
    {
     "data": {
      "text/plain": [
       "Text(0.5, 1.0, '2016 net revenue')"
      ]
     },
     "execution_count": 92,
     "metadata": {},
     "output_type": "execute_result"
    },
    {
     "data": {
      "image/png": "[encoded data removed]",
      "text/plain": [
       "<Figure size 432x288 with 1 Axes>"
      ]
     },
     "metadata": {
      "needs_background": "light"
     },
     "output_type": "display_data"
    }
   ],
   "source": [
    "net_revenue2016=customers[customers.year==2016]['net_revenue']\n",
    "plt.hist(net_revenue2016)\n",
    "plt.title('2016 net revenue')"
   ]
  },
  {
   "cell_type": "code",
   "execution_count": 93,
   "id": "5f24c4aa",
   "metadata": {},
   "outputs": [
    {
     "data": {
      "text/plain": [
       "Text(0.5, 1.0, '2017 net revenue')"
      ]
     },
     "execution_count": 93,
     "metadata": {},
     "output_type": "execute_result"
    },
    {
     "data": {
      "image/png": "[encoded data removed]",
      "text/plain": [
       "<Figure size 432x288 with 1 Axes>"
      ]
     },
     "metadata": {
      "needs_background": "light"
     },
     "output_type": "display_data"
    }
   ],
   "source": [
    "net_revenue2017=customers[customers.year==2017]['net_revenue']\n",
    "plt.hist(net_revenue2017)\n",
    "plt.title('2017 net revenue')"
   ]
  },
  {
   "cell_type": "markdown",
   "id": "e59d86ab",
   "metadata": {},
   "source": [
    "### Plots 2\n",
    "From the plots below,we can see the total net revenue and total customers of 2015-2017 , and we can see there is a tendency to go down and then up both on the total net revenue and total number of customers. \n",
    "\n",
    "From the second plot below, we can see there is a coincide on the plot, this is a very interesting thing.So each customer contributes the same amount of sales growth, as long as there is a customer increase, there will be a unit of sales growth."
   ]
  },
  {
   "cell_type": "code",
   "execution_count": 138,
   "id": "9457f228",
   "metadata": {},
   "outputs": [
    {
     "data": {
      "text/plain": [
       "Text(0.5, 1.0, '2015-2017 total net revenue v.s. total customers')"
      ]
     },
     "execution_count": 138,
     "metadata": {},
     "output_type": "execute_result"
    },
    {
     "data": {
      "image/png": "[encoded data removed]",
      "text/plain": [
       "<Figure size 432x288 with 1 Axes>"
      ]
     },
     "metadata": {
      "needs_background": "light"
     },
     "output_type": "display_data"
    },
    {
     "data": {
      "image/png": "[encoded data removed]",
      "text/plain": [
       "<Figure size 432x288 with 2 Axes>"
      ]
     },
     "metadata": {
      "needs_background": "light"
     },
     "output_type": "display_data"
    }
   ],
   "source": [
    "result['Trev_curr'] = result['Trev_curr'].astype(float, errors = 'raise')\n",
    "total_revenue=result['Trev_curr']\n",
    "result['Totalc_curr'] = result['Totalc_curr'].astype(float, errors = 'raise')\n",
    "total_customers=result['Totalc_curr']\n",
    "x=['2015','2016','2017']\n",
    "y1=[total_revenue[2],total_revenue[1],total_revenue[0]]\n",
    "plt.plot(x,y1,label='total revenue',color='b')\n",
    "y2=[total_customers[2],total_customers[1],total_customers[0]]\n",
    "plt.plot(x,y2,label ='total customers',color='r')\n",
    "fig,ax1=plt.subplots()\n",
    "ax2=ax1.twinx()\n",
    "ax1.plot(x,y1,'b',linewidth='5',linestyle='--')\n",
    "ax2.plot(x,y2,'r',linewidth='2')\n",
    "ax1.set_ylabel('total revenue')\n",
    "ax2.set_ylabel('total customers')\n",
    "plt.title('2015-2017 total net revenue v.s. total customers')"
   ]
  },
  {
   "cell_type": "markdown",
   "id": "87e23da4",
   "metadata": {},
   "source": [
    "### Plot 3\n",
    "From the plot below, we can see the new customer revenue is also increasing."
   ]
  },
  {
   "cell_type": "code",
   "execution_count": 142,
   "id": "6126ca52",
   "metadata": {},
   "outputs": [
    {
     "data": {
      "text/plain": [
       "Text(0.5, 1.0, '2016-2017 new customer revenue')"
      ]
     },
     "execution_count": 142,
     "metadata": {},
     "output_type": "execute_result"
    },
    {
     "data": {
      "image/png": "[encoded data removed]",
      "text/plain": [
       "<Figure size 432x288 with 1 Axes>"
      ]
     },
     "metadata": {
      "needs_background": "light"
     },
     "output_type": "display_data"
    }
   ],
   "source": [
    "x=['2016','2017']\n",
    "y=[17206366.90,21769213.01]\n",
    "plt.plot(x,y)\n",
    "plt.title('2016-2017 new customer revenue')"
   ]
  },
  {
   "cell_type": "markdown",
   "id": "886328a1",
   "metadata": {},
   "source": [
    "### Plots 4\n",
    "From the plots below, the organe line represents the number of new customers, the blue one represents the number of lost customers. We can know, in 2016, the number of lost customers is bigger than the number of new customers, which is a bad thing. However, in 2017, the number of new customers is larger than the number of lost customers which is a good thing for the company."
   ]
  },
  {
   "cell_type": "code",
   "execution_count": 143,
   "id": "5e620a4e",
   "metadata": {},
   "outputs": [
    {
     "data": {
      "text/plain": [
       "Text(0.5, 1.0, '2016-2017 number of new customers v.s. number of lost customers')"
      ]
     },
     "execution_count": 143,
     "metadata": {},
     "output_type": "execute_result"
    },
    {
     "data": {
      "image/png": "[encoded data removed]",
      "text/plain": [
       "<Figure size 432x288 with 1 Axes>"
      ]
     },
     "metadata": {
      "needs_background": "light"
     },
     "output_type": "display_data"
    },
    {
     "data": {
      "image/png": "[encoded data removed]",
      "text/plain": [
       "<Figure size 432x288 with 2 Axes>"
      ]
     },
     "metadata": {
      "needs_background": "light"
     },
     "output_type": "display_data"
    }
   ],
   "source": [
    "x=['2016','2017']\n",
    "y1=[136891,173449]\n",
    "plt.plot(x,y1,label='number of new_customers',color='orange')\n",
    "y2=[163539,128108]\n",
    "plt.plot(x,y2,label ='number of lost_customers',color='b')\n",
    "fig,ax1=plt.subplots()\n",
    "ax2=ax1.twinx()\n",
    "ax1.plot(x,y1,'orange',linewidth='5',linestyle='--')\n",
    "ax2.plot(x,y2,'b',linewidth='2')\n",
    "ax1.set_ylabel('number of new_customers')\n",
    "ax2.set_ylabel('number of lost_customers')\n",
    "plt.title('2016-2017 number of new customers v.s. number of lost customers')"
   ]
  },
  {
   "cell_type": "code",
   "execution_count": null,
   "id": "ae5a2c4d",
   "metadata": {},
   "outputs": [],
   "source": []
  }
 ],
 "metadata": {
  "kernelspec": {
   "display_name": "Python 3 (ipykernel)",
   "language": "python",
   "name": "python3"
  },
  "language_info": {
   "codemirror_mode": {
    "name": "ipython",
    "version": 3
   },
   "file_extension": ".py",
   "mimetype": "text/x-python",
   "name": "python",
   "nbconvert_exporter": "python",
   "pygments_lexer": "ipython3",
   "version": "3.9.7"
  }
 },
 "nbformat": 4,
 "nbformat_minor": 5
}
